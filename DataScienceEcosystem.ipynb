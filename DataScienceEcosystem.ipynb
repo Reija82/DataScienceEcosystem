{
 "cells": [
  {
   "cell_type": "markdown",
   "id": "680e5895-a491-43b9-ba93-6e08627fa1bc",
   "metadata": {},
   "source": [
    "# Data Science Tools and Ecosystem"
   ]
  },
  {
   "cell_type": "markdown",
   "id": "676fcbac-56be-41b3-95e3-584a1a0e4d97",
   "metadata": {},
   "source": [
    "In this notebook, Data Science Tools and Ecosystem are summarized."
   ]
  },
  {
   "cell_type": "markdown",
   "id": "0d39be99-6182-49a2-83b3-3e9d5ff1c076",
   "metadata": {
    "editable": true,
    "slideshow": {
     "slide_type": ""
    },
    "tags": []
   },
   "source": [
    "**Objectives:**\n",
    "- List popular languages for Data Science\n",
    "- List some of the commonly libraries used by Data Scientists\n",
    "- List some development environment open source tools used in data science"
   ]
  },
  {
   "cell_type": "markdown",
   "id": "d58a3761-e45c-4873-82f2-3c37c5fc53c2",
   "metadata": {},
   "source": [
    "Some of the popular languages that Data Scientists use are:\n",
    "1. Python\n",
    "2. R\n",
    "3. SQL\n"
   ]
  },
  {
   "cell_type": "markdown",
   "id": "a7531291-8917-4d78-8d38-47d2aa2cf786",
   "metadata": {},
   "source": [
    "Some of the commonly used libraries used by Data Scientists include:\n",
    "1. NumPy\n",
    "2. Pandas\n",
    "3. Plotly"
   ]
  },
  {
   "cell_type": "markdown",
   "id": "20601be4-3128-48ea-aace-54c52ff4b450",
   "metadata": {},
   "source": [
    "|Data Science Tools|\n",
    "|------------------|\n",
    "|Jupyter Notebook|\n",
    "|RStudio|\n",
    "|Visual Studio Code|"
   ]
  },
  {
   "cell_type": "markdown",
   "id": "45b2be37-f222-4a97-9fcb-bb7ebc36e3d1",
   "metadata": {},
   "source": [
    "### Below are a few examples of evaluating arithmetic expressions in Python"
   ]
  },
  {
   "cell_type": "code",
   "execution_count": 10,
   "id": "b92f6a1c-cebb-4f83-8cb3-023877ae0646",
   "metadata": {},
   "outputs": [
    {
     "name": "stdout",
     "output_type": "stream",
     "text": [
      "17\n"
     ]
    }
   ],
   "source": [
    "# This a simple arithmetic expression to mutiply then add integers.\n",
    "print ((3*4)+5)\n"
   ]
  },
  {
   "cell_type": "code",
   "execution_count": 31,
   "id": "34697311-2472-4954-b73b-ebf17b8c1f84",
   "metadata": {},
   "outputs": [
    {
     "name": "stdout",
     "output_type": "stream",
     "text": [
      "3.33 h\n"
     ]
    }
   ],
   "source": [
    "# This will convert 200 minutes into hours by dividing by 60\n",
    "hours = 200/60\n",
    "print (f\"{round(hours, 2)} h\")"
   ]
  },
  {
   "cell_type": "markdown",
   "id": "c413a7e3-ca0f-4d68-95e5-1b3fa2e16678",
   "metadata": {},
   "source": [
    "## Author\n",
    "Miguel Mendoza"
   ]
  }
 ],
 "metadata": {
  "kernelspec": {
   "display_name": "Python 3 (ipykernel)",
   "language": "python",
   "name": "python3"
  },
  "language_info": {
   "codemirror_mode": {
    "name": "ipython",
    "version": 3
   },
   "file_extension": ".py",
   "mimetype": "text/x-python",
   "name": "python",
   "nbconvert_exporter": "python",
   "pygments_lexer": "ipython3",
   "version": "3.12.4"
  }
 },
 "nbformat": 4,
 "nbformat_minor": 5
}
